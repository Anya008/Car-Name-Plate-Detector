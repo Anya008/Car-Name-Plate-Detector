{
 "cells": [
  {
   "cell_type": "code",
   "execution_count": 1,
   "id": "871a0689-692d-4be3-81c7-18530423c444",
   "metadata": {},
   "outputs": [
    {
     "name": "stdout",
     "output_type": "stream",
     "text": [
      "Requirement already satisfied: opencv-contrib-python in c:\\users\\anya\\appdata\\local\\programs\\python\\python39\\lib\\site-packages (4.9.0.80)\n",
      "Requirement already satisfied: numpy>=1.17.0 in c:\\users\\anya\\appdata\\local\\programs\\python\\python39\\lib\\site-packages (from opencv-contrib-python) (1.26.2)\n",
      "Note: you may need to restart the kernel to use updated packages.\n"
     ]
    },
    {
     "name": "stderr",
     "output_type": "stream",
     "text": [
      "\n",
      "[notice] A new release of pip is available: 23.3.1 -> 23.3.2\n",
      "[notice] To update, run: c:\\users\\anya\\appdata\\local\\programs\\python\\python39\\python.exe -m pip install --upgrade pip\n"
     ]
    }
   ],
   "source": [
    "pip install opencv-contrib-python"
   ]
  },
  {
   "cell_type": "code",
   "execution_count": 2,
   "id": "78a30acb-169d-4204-a34b-0e74c25f86b2",
   "metadata": {},
   "outputs": [
    {
     "name": "stdout",
     "output_type": "stream",
     "text": [
      "Requirement already satisfied: imutils in c:\\users\\anya\\appdata\\local\\programs\\python\\python39\\lib\\site-packages (0.5.4)\n",
      "Note: you may need to restart the kernel to use updated packages.\n"
     ]
    },
    {
     "name": "stderr",
     "output_type": "stream",
     "text": [
      "\n",
      "[notice] A new release of pip is available: 23.3.1 -> 23.3.2\n",
      "[notice] To update, run: c:\\users\\anya\\appdata\\local\\programs\\python\\python39\\python.exe -m pip install --upgrade pip\n"
     ]
    }
   ],
   "source": [
    "pip install imutils"
   ]
  },
  {
   "cell_type": "code",
   "execution_count": 3,
   "id": "281de623-c6f0-484a-8321-1834b6cb9651",
   "metadata": {},
   "outputs": [
    {
     "name": "stdout",
     "output_type": "stream",
     "text": [
      "Requirement already satisfied: pytesseract in c:\\users\\anya\\appdata\\local\\programs\\python\\python39\\lib\\site-packages (0.3.10)\n",
      "Requirement already satisfied: packaging>=21.3 in c:\\users\\anya\\appdata\\local\\programs\\python\\python39\\lib\\site-packages (from pytesseract) (23.2)\n",
      "Requirement already satisfied: Pillow>=8.0.0 in c:\\users\\anya\\appdata\\local\\programs\\python\\python39\\lib\\site-packages (from pytesseract) (10.1.0)\n",
      "Note: you may need to restart the kernel to use updated packages.\n"
     ]
    },
    {
     "name": "stderr",
     "output_type": "stream",
     "text": [
      "\n",
      "[notice] A new release of pip is available: 23.3.1 -> 23.3.2\n",
      "[notice] To update, run: c:\\users\\anya\\appdata\\local\\programs\\python\\python39\\python.exe -m pip install --upgrade pip\n"
     ]
    }
   ],
   "source": [
    "pip install pytesseract"
   ]
  },
  {
   "cell_type": "code",
   "execution_count": 8,
   "id": "1921c7e9-1d1b-4a62-80dc-dc713594b914",
   "metadata": {},
   "outputs": [],
   "source": [
    "import cv2\n",
    "import imutils\n",
    "import pytesseract\n",
    "import pandas as pd"
   ]
  },
  {
   "cell_type": "code",
   "execution_count": 10,
   "id": "cdde23e4-f8de-42f4-afec-cfa3ea53c2a1",
   "metadata": {},
   "outputs": [
    {
     "ename": "SyntaxError",
     "evalue": "(unicode error) 'unicodeescape' codec can't decode bytes in position 2-3: truncated \\UXXXXXXXX escape (2155310580.py, line 1)",
     "output_type": "error",
     "traceback": [
      "\u001b[1;36m  Cell \u001b[1;32mIn[10], line 1\u001b[1;36m\u001b[0m\n\u001b[1;33m    pytesseract.pytesseract.tesseract_cmd = 'C:\\Users\\Anya\\Downloads'\u001b[0m\n\u001b[1;37m                                                                     ^\u001b[0m\n\u001b[1;31mSyntaxError\u001b[0m\u001b[1;31m:\u001b[0m (unicode error) 'unicodeescape' codec can't decode bytes in position 2-3: truncated \\UXXXXXXXX escape\n"
     ]
    }
   ],
   "source": [
    "pytesseract.pytesseract.tesseract_cmd = 'C:\\\\Program Files\\\\Tesseract-OCR\\\\tesseract'"
   ]
  },
  {
   "cell_type": "code",
   "execution_count": 6,
   "id": "ab692350-a1b6-4ce6-ab4b-154d98291f47",
   "metadata": {},
   "outputs": [],
   "source": [
    "#backend coding\n"
   ]
  },
  {
   "cell_type": "code",
   "execution_count": null,
   "id": "e2f13272-a0f2-489f-94ad-08e66d3d28c9",
   "metadata": {},
   "outputs": [
    {
     "name": "stdout",
     "output_type": "stream",
     "text": [
      "Number plate is: KL65H 4383\n",
      "\f",
      "\n"
     ]
    }
   ],
   "source": [
    "import cv2\n",
    "import imutils\n",
    "import pytesseract\n",
    "\n",
    "# Set the path to Tesseract\n",
    "pytesseract.pytesseract.tesseract_cmd = r'C:\\\\Program Files\\\\Tesseract-OCR\\\\tesseract'\n",
    "\n",
    "#Readimage\n",
    "image = cv2.imread('car3.png')\n",
    "#Resize the image\n",
    "image = imutils.resize(image, width=300)\n",
    "\n",
    "#image to grayscale\n",
    "gray_image = cv2.cvtColor(image, cv2.COLOR_BGR2GRAY)\n",
    "\n",
    "#noise reduction\n",
    "gray_image = cv2.bilateralFilter(gray_image, 11, 17, 17)\n",
    "\n",
    "#detection using  Canny algorithm\n",
    "edged = cv2.Canny(gray_image, 30, 200)\n",
    "\n",
    "# Find contours \n",
    "cnts, new = cv2.findContours(edged.copy(), cv2.RETR_LIST, cv2.CHAIN_APPROX_SIMPLE)\n",
    "\n",
    "# Sort contours by area and select the top 30\n",
    "cnts = sorted(cnts, key=cv2.contourArea, reverse=True)[:30]\n",
    "\n",
    "screenCnt = None\n",
    "i=7\n",
    "# Iterate over the contours\n",
    "for c in cnts:\n",
    "    perimeter = cv2.arcLength(c, True)\n",
    "    approx = cv2.approxPolyDP(c, 0.018 * perimeter, True)\n",
    "    if len(approx) == 4:\n",
    "        screenCnt = approx\n",
    "        x, y, w, h = cv2.boundingRect(c)\n",
    "        new_img = image[y:y + h, x:x + w]\n",
    "        cv2.imwrite('./' + str(i) + '.png', new_img)\n",
    "        break\n",
    "\n",
    "# Draw the  contour \n",
    "if screenCnt is not None:\n",
    "    cv2.drawContours(image, [screenCnt], -1, (0, 255, 0), 3)\n",
    "    cv2.imshow(\"image with detected license plate\", image)\n",
    "    cv2.waitKey(0)\n",
    "else:\n",
    "    print(\"No license plate contour found.\")\n",
    "\n",
    "# Performing OCR \n",
    "Cropped_loc = './7.png'\n",
    "cv2.imshow(\"cropped\", cv2.imread(Cropped_loc))\n",
    "plate = pytesseract.image_to_string(Cropped_loc, lang='eng')\n",
    "print(\"Number plate is:\", plate)\n",
    "cv2.waitKey(0)\n",
    "cv2.destroyAllWindows()"
   ]
  },
  {
   "cell_type": "code",
   "execution_count": null,
   "id": "eb7ada87-14b9-44d7-849b-cc88ea2e9e7f",
   "metadata": {},
   "outputs": [],
   "source": [
    "\n"
   ]
  },
  {
   "cell_type": "code",
   "execution_count": null,
   "id": "004732da-8d20-4d6c-acda-faa18525d13e",
   "metadata": {},
   "outputs": [],
   "source": []
  },
  {
   "cell_type": "code",
   "execution_count": null,
   "id": "84a1a45b-7f2c-4aae-ba82-96ed159dd312",
   "metadata": {},
   "outputs": [],
   "source": []
  }
 ],
 "metadata": {
  "kernelspec": {
   "display_name": "Python 3 (ipykernel)",
   "language": "python",
   "name": "python3"
  },
  "language_info": {
   "codemirror_mode": {
    "name": "ipython",
    "version": 3
   },
   "file_extension": ".py",
   "mimetype": "text/x-python",
   "name": "python",
   "nbconvert_exporter": "python",
   "pygments_lexer": "ipython3",
   "version": "3.9.0"
  }
 },
 "nbformat": 4,
 "nbformat_minor": 5
}
